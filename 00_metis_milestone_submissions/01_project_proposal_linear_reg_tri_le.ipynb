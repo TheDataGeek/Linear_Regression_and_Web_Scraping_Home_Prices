{
 "cells": [
  {
   "cell_type": "markdown",
   "id": "9abf5bff-ec36-4ee4-9a7c-aceff2467c4d",
   "metadata": {
    "tags": []
   },
   "source": [
    "# COURSE PROJECT PROPOSAL | LINEAR REGRESSION\n",
    "\n",
    "\n",
    "### Questions/Needs:\n",
    "_What is the framing question behind your analysis, or the purpose of the model/system you plan to build?_\n",
    "* Can we predict home prices, based on multiple features? Which feature(s) has the greatest impact on home prices\n",
    "\n",
    "\n",
    "_Who benefits from exploring this question or building this model/system?_\n",
    "* Individuals planning to purchase a home\n",
    "\n",
    "\n",
    "### Data Description:\n",
    "_What dataset(s) do you plan to use, and how will you obtain the data?_\n",
    "* Redfin\n",
    "\n",
    "_What is an individual sample/unit of analysis in this project (i.e., what are your rows)? What characteristics/features do you expect to work with (i.e., what are your columns of interest)?_\n",
    "* Sale Price\n",
    "* Bedrooms, Bathrooms, Garage, Sq Ft, Lot Size, Heating, Air Conditioning, Transit Score (x3), Washer/Dryer, etc\n",
    "\n",
    "_If modeling, what will you predict as your target?_\n",
    "* Home sale prices\n",
    "\n",
    "### Tools:\n",
    "_How do you intend to meet the tools requirement of the project?_\n",
    "* HTML Requests\n",
    "* Web scraping using BeautifulSoup\n",
    "* Data cleaning and analyses using Jupyter Notebook, Pandas, NumPy\n",
    "* Data visualization using Matplotlib and Seaborn\n",
    "* Modeling using Statsmodel and Scikit-Learn\n",
    "\n",
    "_Are you planning in advance to need or use additional tools beyond those required?_\n",
    "* Unsure at this time\n",
    "\n",
    "### MVP Goal:\n",
    "_What would a minimum viable product (MVP) look like for this project?_\n",
    "* Website data parsed and cleaned \n",
    "* Preliminary EDA to refine feature columns and determine target\n",
    "* Simple Linear Regression\n",
    "\n"
   ]
  },
  {
   "cell_type": "code",
   "execution_count": null,
   "id": "d924b628-5f51-43b6-bccb-dcafe6316d58",
   "metadata": {},
   "outputs": [],
   "source": []
  }
 ],
 "metadata": {
  "kernelspec": {
   "display_name": "Python 3 (ipykernel)",
   "language": "python",
   "name": "python3"
  },
  "language_info": {
   "codemirror_mode": {
    "name": "ipython",
    "version": 3
   },
   "file_extension": ".py",
   "mimetype": "text/x-python",
   "name": "python",
   "nbconvert_exporter": "python",
   "pygments_lexer": "ipython3",
   "version": "3.9.7"
  }
 },
 "nbformat": 4,
 "nbformat_minor": 5
}

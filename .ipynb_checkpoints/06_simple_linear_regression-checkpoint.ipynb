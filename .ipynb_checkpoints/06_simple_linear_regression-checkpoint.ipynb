{
 "cells": [
  {
   "cell_type": "code",
   "execution_count": 1,
   "id": "725e7f7d",
   "metadata": {},
   "outputs": [],
   "source": [
    "import pandas as pd\n",
    "import numpy as np\n",
    "\n",
    "import seaborn as sns\n",
    "import matplotlib.pyplot as plt\n",
    "%matplotlib inline\n",
    "\n",
    "from sklearn.linear_model import LinearRegression\n",
    "from sklearn.model_selection import train_test_split, KFold, cross_val_score\n",
    "from sklearn.metrics import r2_score, mean_absolute_error, mean_squared_error\n",
    "from sklearn.preprocessing import StandardScaler\n",
    "\n",
    "from scipy import stats"
   ]
  },
  {
   "cell_type": "code",
   "execution_count": 2,
   "id": "692c76b6",
   "metadata": {},
   "outputs": [
    {
     "data": {
      "text/plain": [
       "(1656, 23)"
      ]
     },
     "execution_count": 2,
     "metadata": {},
     "output_type": "execute_result"
    }
   ],
   "source": [
    "df=pd.read_csv('redfin_data.csv')\n",
    "df.shape"
   ]
  },
  {
   "cell_type": "code",
   "execution_count": 3,
   "id": "b4ed6713",
   "metadata": {},
   "outputs": [
    {
     "name": "stdout",
     "output_type": "stream",
     "text": [
      "<class 'pandas.core.frame.DataFrame'>\n",
      "RangeIndex: 1656 entries, 0 to 1655\n",
      "Data columns (total 23 columns):\n",
      " #   Column             Non-Null Count  Dtype  \n",
      "---  ------             --------------  -----  \n",
      " 0   Sold Price         1649 non-null   float64\n",
      " 1   Beds               1649 non-null   float64\n",
      " 2   Baths              1649 non-null   float64\n",
      " 3   Floors             1632 non-null   float64\n",
      " 4   Garage Spaces      1656 non-null   int64  \n",
      " 5   Lot Size (sq ft)   1653 non-null   float64\n",
      " 6   Home Size (sq ft)  1655 non-null   float64\n",
      " 7   Year Built         1653 non-null   float64\n",
      " 8   School Score Avg   1515 non-null   float64\n",
      " 9   Walk Score         1538 non-null   float64\n",
      " 10  Transit Score      1538 non-null   float64\n",
      " 11  Bike Score         1538 non-null   float64\n",
      " 12  Laundry            1656 non-null   bool   \n",
      " 13  Heating            1656 non-null   bool   \n",
      " 14  Air Conditioning   1656 non-null   bool   \n",
      " 15  Pool               1656 non-null   bool   \n",
      " 16  Address            1656 non-null   object \n",
      " 17  City               1656 non-null   object \n",
      " 18  County             1654 non-null   object \n",
      " 19  Zip Code           1656 non-null   object \n",
      " 20  Property Type      1654 non-null   object \n",
      " 21  Sold Status        823 non-null    object \n",
      " 22  URL                1656 non-null   object \n",
      "dtypes: bool(4), float64(11), int64(1), object(7)\n",
      "memory usage: 252.4+ KB\n"
     ]
    }
   ],
   "source": [
    "df.info()"
   ]
  },
  {
   "cell_type": "code",
   "execution_count": 4,
   "id": "ff6a5689",
   "metadata": {},
   "outputs": [
    {
     "name": "stdout",
     "output_type": "stream",
     "text": [
      "<class 'pandas.core.frame.DataFrame'>\n",
      "Int64Index: 1294 entries, 0 to 1439\n",
      "Data columns (total 17 columns):\n",
      " #   Column            Non-Null Count  Dtype  \n",
      "---  ------            --------------  -----  \n",
      " 0   sold price        1294 non-null   float64\n",
      " 1   beds              1294 non-null   float64\n",
      " 2   baths             1294 non-null   float64\n",
      " 3   floors            1294 non-null   float64\n",
      " 4   garage spaces     1294 non-null   int64  \n",
      " 5   lot size          1294 non-null   float64\n",
      " 6   home size         1294 non-null   float64\n",
      " 7   school score avg  1294 non-null   float64\n",
      " 8   walk score        1294 non-null   float64\n",
      " 9   transit score     1294 non-null   float64\n",
      " 10  bike score        1294 non-null   float64\n",
      " 11  laundry           1294 non-null   bool   \n",
      " 12  heating           1294 non-null   bool   \n",
      " 13  air conditioning  1294 non-null   bool   \n",
      " 14  pool              1294 non-null   bool   \n",
      " 15  city              1294 non-null   object \n",
      " 16  age of house      1294 non-null   float64\n",
      "dtypes: bool(4), float64(11), int64(1), object(1)\n",
      "memory usage: 146.6+ KB\n"
     ]
    }
   ],
   "source": [
    "## clean data\n",
    "\n",
    "df.drop(columns=['Address', 'Sold Status', 'URL'], inplace = True)\n",
    "\n",
    "df = df.dropna()\n",
    "df.reset_index(drop=True, inplace=True)\n",
    "\n",
    "df.columns= df.columns.str.lower()\n",
    "df.rename(columns={'lot size (sq ft)': 'lot size', 'home size (sq ft)': 'home size'}, inplace=True)\n",
    "\n",
    "df.drop(df.index[df['city'] == 'SAN JOSE'], inplace=True)\n",
    "\n",
    "df.drop(df.index[df['city'] == 'EAST PALO ALTO'], inplace=True)\n",
    "\n",
    "df.drop(df.index[df['county'] == 'SAN MATEO COUNTY'], inplace=True)\n",
    "\n",
    "df.drop(columns=['county', 'zip code', 'property type'], inplace = True)\n",
    "\n",
    "df['age of house'] = (df['year built'].max() + 1) - df['year built']\n",
    "\n",
    "df.drop([126], inplace=True)\n",
    "df.drop([951,952], inplace=True)\n",
    "df.drop([1410], inplace=True)\n",
    "\n",
    "df.drop(columns=['year built'], inplace = True)\n",
    "\n",
    "df.info()"
   ]
  },
  {
   "cell_type": "code",
   "execution_count": null,
   "id": "d6436d49",
   "metadata": {},
   "outputs": [],
   "source": []
  },
  {
   "cell_type": "code",
   "execution_count": null,
   "id": "fceccae5",
   "metadata": {},
   "outputs": [],
   "source": [
    "## select target and features\n",
    "\n",
    "x = df.drop(columns=['sold price', 'garage spaces', 'year built', \n",
    "                     'walk score', 'transit score', 'bike score', \n",
    "                     'laundry', 'heating', 'air conditioning', 'pool', 'city'])\n",
    "y = np.log10(df['sold price'])"
   ]
  },
  {
   "cell_type": "code",
   "execution_count": null,
   "id": "3f1e4359",
   "metadata": {},
   "outputs": [],
   "source": [
    "## train-test split 60-20-20\n",
    "\n",
    "x, x_test, y, y_test = train_test_split(x, y,\n",
    "                                        test_size = 0.2,\n",
    "                                        random_state = 42)\n",
    "\n",
    "x_train, x_valid, y_train, y_valid = train_test_split(x, y,\n",
    "                                                  test_size = 0.25,\n",
    "                                                  random_state = 42)\n",
    "\n",
    "## instantiate and fit StandardScaler()\n",
    "std = StandardScaler()\n",
    "std.fit(x_train.values)\n",
    "\n",
    "## apply the scaler to the train set\n",
    "x_tr = std.transform(x_train.values)\n",
    "\n",
    "## apply the scaler to the validation set\n",
    "x_val = std.transform(x_valid.values)\n",
    "\n",
    "## instantiate and fit Linear Regression to train set\n",
    "lr = LinearRegression()\n",
    "\n",
    "lr.fit(x_tr,y_train)\n",
    "\n",
    "## r2 score of train set\n",
    "r2_train = lr.score(x_tr,y_train)\n",
    "\n",
    "## adj r2 score of train\n",
    "adj_r2_train = 1-(1-r2_train)*(x_tr.shape[0]-1)/(x_tr.shape[0]-x_tr.shape[1]-1)\n",
    "\n",
    "## r2 score of validation set\n",
    "r2_val = lr.score(x_val,y_valid)\n",
    "\n",
    "## adj r2 score of validation set\n",
    "adj_r2_val = 1-(1-r2_val)*(x_val.shape[0]-1)/(x_val.shape[0]-x_val.shape[1]-1)\n",
    "\n",
    "lr_predict = lr.predict(x_val)\n",
    "lr_resid = y_valid - lr_predict\n",
    "\n",
    "mae_train = round(mean_absolute_error(10**y_train, 10**lr.predict(x_tr)),2)\n",
    "mae_train\n",
    "\n",
    "mae_val = round(mean_absolute_error(10**y_valid, 10**lr.predict(x_val)),2)\n",
    "mae_val\n",
    "\n",
    "rmse_train = round(mean_squared_error(10**y_train, 10**lr.predict(x_tr), squared=False),2)\n",
    "rmse_train\n",
    "\n",
    "rmse_val = round(mean_squared_error(10**y_valid, 10**lr.predict(x_val), squared=False),2)\n",
    "rmse_val\n",
    "\n",
    "print('SIMPLE LINEAR REGRESSION SUMMARY: ')\n",
    "\n",
    "print('\\nr2 (Train Data): ', r2_train)\n",
    "print('r2 (Validation Data): ', r2_val)\n",
    "\n",
    "print('\\nAdjusted r2 (Train Data): ', adj_r2_train)\n",
    "print('Adjusted r2 (Validation Data): ', adj_r2_val)\n",
    "\n",
    "print('\\nMean Absolute Error (Train Data): ', mae_train)\n",
    "print('Mean Absolute Error (Validation Data): ', mae_val)\n",
    "\n",
    "print('\\nRoot Mean Squared Error (Train Data): ', rmse_train)\n",
    "print('Root Mean Squared Error (Validation Data): ', rmse_val)\n"
   ]
  },
  {
   "cell_type": "code",
   "execution_count": null,
   "id": "530e1468",
   "metadata": {},
   "outputs": [],
   "source": [
    "lr_predict = lr.predict(x_val)\n",
    "lr_resid = y_valid - lr_predict"
   ]
  },
  {
   "cell_type": "code",
   "execution_count": null,
   "id": "b00afa03",
   "metadata": {},
   "outputs": [],
   "source": [
    "def diagnostic_plots(x, y, y_pred):    \n",
    "    \n",
    "    plt.figure(figsize=(20,6))\n",
    "    plt.tight_layout(pad=10.0)\n",
    "    \n",
    "    plt.subplot(1, 3, 1)\n",
    "    plt.scatter(y_pred,y)\n",
    "    plt.plot([0, 9e6], [0, 9e6], color='r', linestyle='-')\n",
    "    plt.title('Actual vs. True Sale Price', size=18)\n",
    "    plt.xlabel('Predicted Sale Price', size=16)\n",
    "    plt.ylabel('Actual Sale Price', size=16)\n",
    "#     plt.ticklabel_format(axis='both', style='sci', scilimits=(0,0))\n",
    "    plt.xticks(size=12)\n",
    "    plt.yticks(size=12)\n",
    "#     plt.grid(True, linestyle='--')\n",
    "    \n",
    "    plt.subplot(1, 3, 2)\n",
    "    res = y - y_pred\n",
    "    plt.scatter(y_pred, res)\n",
    "    plt.axhline(y=0.0, color='r', linestyle='-')\n",
    "    plt.title('Residuals Plot', size=18)\n",
    "    plt.xlabel('Predicted', size=16)\n",
    "    plt.ylabel('Residual', size=16)\n",
    "#     plt.ticklabel_format(axis='both', style='sci', scilimits=(0,0))\n",
    "    plt.xticks(size=12)\n",
    "    plt.yticks(size=12)\n",
    "#     plt.grid(True, linestyle='--')\n",
    "    \n",
    "    plt.subplot(1, 3, 3)\n",
    "    #Generates a probability plot of sample data against the quantiles of a \n",
    "    # specified theoretical distribution \n",
    "    stats.probplot(res, dist='norm', plot=plt)\n",
    "    plt.title('Normal Q-Q plot', size=18)\n",
    "    plt.xlabel('Theoretical Quantiles', size=16)\n",
    "    plt.ylabel('Ordered Values', size=16)\n",
    "#     plt.ticklabel_format(axis='y', style='sci', scilimits=(0,0))\n",
    "    plt.xticks(size=12)\n",
    "    plt.yticks(size=12)\n",
    "#     plt.grid(True, linestyle='--')"
   ]
  },
  {
   "cell_type": "code",
   "execution_count": null,
   "id": "050f999d",
   "metadata": {},
   "outputs": [],
   "source": [
    "diagnostic_plots(x_val, 10**y_valid, 10**lr_predict)"
   ]
  },
  {
   "cell_type": "code",
   "execution_count": null,
   "id": "e8550eb2",
   "metadata": {},
   "outputs": [],
   "source": [
    "print('Standardized Coefficients (Train Data) of Feature Variables: ')\n",
    "lr_vif_train = pd.DataFrame()\n",
    "lr_vif_train['Features'] = x_train.columns\n",
    "lr_vif_train['VIF'] = [variance_inflation_factor(x_train.values, i) for i in range(x_train.shape[1])]\n",
    "lr_vif_train\n"
   ]
  },
  {
   "cell_type": "code",
   "execution_count": null,
   "id": "45757b47",
   "metadata": {},
   "outputs": [],
   "source": [
    "\n",
    "print('Standardized Coefficients (Validation Data) of Feature Variables: ')\n",
    "lr_vif_val = pd.DataFrame()\n",
    "lr_vif_val['Features'] = x_valid.columns\n",
    "lr_vif_val['VIF'] = [variance_inflation_factor(x_valid.values, i) for i in range(x_valid.shape[1])]\n",
    "lr_vif_val"
   ]
  },
  {
   "cell_type": "code",
   "execution_count": null,
   "id": "5b929cbb",
   "metadata": {},
   "outputs": [],
   "source": [
    "list(zip(x_train.columns, lr.coef_))"
   ]
  },
  {
   "cell_type": "code",
   "execution_count": null,
   "id": "7022bdf5",
   "metadata": {},
   "outputs": [],
   "source": []
  }
 ],
 "metadata": {
  "kernelspec": {
   "display_name": "Python 3 (ipykernel)",
   "language": "python",
   "name": "python3"
  },
  "language_info": {
   "codemirror_mode": {
    "name": "ipython",
    "version": 3
   },
   "file_extension": ".py",
   "mimetype": "text/x-python",
   "name": "python",
   "nbconvert_exporter": "python",
   "pygments_lexer": "ipython3",
   "version": "3.9.7"
  }
 },
 "nbformat": 4,
 "nbformat_minor": 5
}

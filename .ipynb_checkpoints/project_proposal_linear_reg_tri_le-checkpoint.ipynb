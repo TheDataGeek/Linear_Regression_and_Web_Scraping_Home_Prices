{
 "cells": [
  {
   "cell_type": "markdown",
   "id": "9abf5bff-ec36-4ee4-9a7c-aceff2467c4d",
   "metadata": {
    "tags": []
   },
   "source": [
    "# COURSE PROJECT PROPOSAL | EXPLORATORY DATA ANALYSIS\n",
    "\n",
    "\n",
    "### Questions/Needs:\n",
    "*What is the framing question behind your analysis, or the purpose of the model/system you plan to build?*\n",
    "* Which MTA stations experience the most traffic during peak morning business hours of 6AM-9AM, MON-FRI?\n",
    "* Which MTA stations experience the least traffic during peak morning business hours of 6AM-9AM, MON-FRI?\n",
    "\n",
    "*Who benefits from exploring this question or building this model/system?*\n",
    "* A *fictional* business named \"Bagels and Brew\" with considerations to open locations in NYC\n",
    "\n",
    "\n",
    "### Data Description:\n",
    "*What dataset(s) do you plan to use, and how will you obtain the data?*\n",
    "* MTA Turnstile Data from the MTA website, retrieved using a Python script \n",
    "\n",
    "*What is an individual sample/unit of analysis in this project (i.e., what are your rows)? What characteristics/features do you expect to work with (i.e., what are your columns of interest)?*\n",
    " * The rows are turnstile readings (cumulative entry and exit counts) from individual turnstile units, from different stations and linenames of the MTA, which are periodically recorded\n",
    "* Columns of interest include: C/A, UNIT, SCP, STATION, LINENAME, DATE, TIME, ENTIRES, EXITS\n",
    "\n",
    "\n",
    "### Tools:\n",
    "*How do you intend to meet the tools requirement of the project?*\n",
    "* Extract raw data into a SQL database and querying from that database into Python via SQLAlchemy\n",
    "* Perform data cleaning and analyses using Jupyter Notebook, Pandas, NumPy\n",
    "* Data visualization and modeling using Matplotlib and Seaborn\n",
    "\n",
    "*Are you planning in advance to need or use additional tools beyond those required?*\n",
    "* Unsure at this time\n",
    "\n",
    "### MVP Goal:\n",
    "*What would a minimum viable product (MVP) look like for this project?*\n",
    "* I'll start with a plot of MTA stations with corresponding cumulative traffic with the intent to further breakdown traffic by weekday and day-part\n"
   ]
  }
 ],
 "metadata": {
  "kernelspec": {
   "display_name": "Python 3 (ipykernel)",
   "language": "python",
   "name": "python3"
  },
  "language_info": {
   "codemirror_mode": {
    "name": "ipython",
    "version": 3
   },
   "file_extension": ".py",
   "mimetype": "text/x-python",
   "name": "python",
   "nbconvert_exporter": "python",
   "pygments_lexer": "ipython3",
   "version": "3.8.10"
  }
 },
 "nbformat": 4,
 "nbformat_minor": 5
}

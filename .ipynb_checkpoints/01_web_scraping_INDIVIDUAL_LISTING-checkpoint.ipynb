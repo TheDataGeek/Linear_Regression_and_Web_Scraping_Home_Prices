{
 "cells": [
  {
   "cell_type": "code",
   "execution_count": 1,
   "id": "38a8a11f",
   "metadata": {},
   "outputs": [],
   "source": [
    "import requests, bs4, re, time, random, csv\n",
    "from bs4 import BeautifulSoup as bs\n",
    "import numpy as np\n",
    "import pandas as pd"
   ]
  },
  {
   "cell_type": "code",
   "execution_count": 2,
   "id": "8d2bfd94",
   "metadata": {},
   "outputs": [],
   "source": [
    "user_agent = {'User-Agent': 'Mozilla/5.0 (Macintosh; Intel Mac OS X 10_15_7) AppleWebKit/537.36 (KHTML, like Gecko) Chrome/99.0.4844.51 Safari/537.36'}    \n",
    "sample_url = 'https://www.redfin.com/city/11961/CA/Menlo-Park/filter/include=sold-6mo'"
   ]
  },
  {
   "cell_type": "code",
   "execution_count": 3,
   "id": "1b99e7b3",
   "metadata": {},
   "outputs": [
    {
     "name": "stdout",
     "output_type": "stream",
     "text": [
      "Success. Sample URL Scraped.\n"
     ]
    }
   ],
   "source": [
    "response = requests.get(sample_url, headers = user_agent)\n",
    "status = response.status_code\n",
    "\n",
    "if status == 200:\n",
    "    page = bs(response.text)\n",
    "    print(f'Success. Sample URL Scraped.')\n",
    "else:\n",
    "    print(f'WARNING. Response Code {status}.')"
   ]
  },
  {
   "cell_type": "code",
   "execution_count": 4,
   "id": "6f101dd4",
   "metadata": {},
   "outputs": [
    {
     "name": "stdout",
     "output_type": "stream",
     "text": [
      "Success. Response Code 200\n"
     ]
    }
   ],
   "source": [
    "# SCRAPE FOR DESIRED DATA\n",
    "data_features = ['Sold Price', 'Beds', 'Baths', 'Floors', 'Garage Spaces', 'Lot Size (sq ft)', 'Home Size (sq ft)'\n",
    "              , 'Year Built', 'School Score Avg', 'Walk Score', 'Transit Score', 'Bike Score', 'Laundry'\n",
    "              , 'Heating', 'Air Conditioning', 'Pool', 'Address', 'City', 'County', 'Zip Code'\n",
    "              , 'Property Type', 'Sold Status', 'URL']\n",
    "\n",
    "with open('redfin_data.csv', 'a', encoding='UTF8') as f:\n",
    "    writer = csv.writer(f)\n",
    "    \n",
    "    writer.writerow(data_features)\n",
    "\n",
    "user_agent = {'User-Agent': 'Mozilla/5.0 (Macintosh; Intel Mac OS X 10_15_7) AppleWebKit/537.36 (KHTML, like Gecko) Chrome/99.0.4844.51 Safari/537.36'}    \n",
    "test_url = 'https://www.redfin.com/CA/Palo-Alto/1062-Los-Robles-Ave-94306/home/1077975'\n",
    "\n",
    "response = requests.get(test_url, headers = user_agent)\n",
    "status = response.status_code\n",
    "\n",
    "if status == 200:\n",
    "    page = bs(response.text)\n",
    "    print(f'Success. Response Code {status}')\n",
    "else:\n",
    "    print(f'WARNING. Response Code {status}')"
   ]
  },
  {
   "cell_type": "code",
   "execution_count": 5,
   "id": "f6d87731",
   "metadata": {},
   "outputs": [],
   "source": [
    "# home stats\n",
    "home_stats = page.find('div', class_='home-main-stats-variant')\n",
    "\n",
    "home_summary = [div.text for div in home_stats.find_all('div', class_='statsValue')]\n",
    "\n",
    "try:\n",
    "    sold_price = int(home_summary[0].replace('$','').replace(',',''))\n",
    "    beds = int(home_summary[1])\n",
    "    baths = float(home_summary[2])\n",
    "except:\n",
    "    sold_price = beds = baths = np.nan    "
   ]
  },
  {
   "cell_type": "code",
   "execution_count": 6,
   "id": "fdfcd9f8",
   "metadata": {},
   "outputs": [],
   "source": [
    "# home sq ft\n",
    "try: \n",
    "    home_sqft = int(page.find('div',class_='stat-block sqft-section').find('span', class_='statsValue').text.replace(',',''))\n",
    "except:\n",
    "    home_sqft = np.nan"
   ]
  },
  {
   "cell_type": "code",
   "execution_count": 7,
   "id": "03bc168c",
   "metadata": {},
   "outputs": [],
   "source": [
    "# floors\n",
    "try:\n",
    "    if page.find(text='# of Stories: '):\n",
    "        floors = int(page.find(text='# of Stories: ').findNext().text)\n",
    "    elif page.find('div', class_='facts-table').find(text='Stories'):\n",
    "        floors = int(page.find('div', class_='facts-table').find(text='Stories').next.text)\n",
    "except:\n",
    "    floors = np.nan"
   ]
  },
  {
   "cell_type": "code",
   "execution_count": 8,
   "id": "4623e7c2",
   "metadata": {},
   "outputs": [],
   "source": [
    "#garage\n",
    "try:\n",
    "    if page.find(text='Garage (Maximum): '):\n",
    "        garage = int(page.find(text = 'Garage (Maximum): ').findNext().text)\n",
    "    elif page.find(text='Garage Spaces: '):\n",
    "        garage = int(page.find(text = 'Garage Spaces: ').findNext().text)\n",
    "    else:\n",
    "        garage = 0\n",
    "except:\n",
    "    garage =np.nan"
   ]
  },
  {
   "cell_type": "code",
   "execution_count": 9,
   "id": "d55e1219",
   "metadata": {},
   "outputs": [],
   "source": [
    "# lot sq ft\n",
    "try: \n",
    "    if page.find('div',class_='amenities-container').find(text='Lot Acres: '):\n",
    "        lot_sqft = float(page.find('div',class_='amenities-container').find(text='Lot Acres: ').findNext().text)*43560\n",
    "\n",
    "    elif page.find('div',class_='amenities-container').find(text='Lot Size Acres: '):\n",
    "        lot_sqft = float(page.find('div',class_='amenities-container').find(text='Lot Size Acres: ').findNext().text)*43560\n",
    "except: \n",
    "    lot_sqft = np.nan"
   ]
  },
  {
   "cell_type": "code",
   "execution_count": 10,
   "id": "6c2125e1",
   "metadata": {},
   "outputs": [],
   "source": [
    "# year built\n",
    "try:\n",
    "    year_built = int(page.find(text='Year Built').findNext().text)\n",
    "except:\n",
    "    year_built = np.nan"
   ]
  },
  {
   "cell_type": "code",
   "execution_count": 11,
   "id": "b42f73ed",
   "metadata": {},
   "outputs": [],
   "source": [
    "# school score avg\n",
    "try:\n",
    "    school_content = page.find('div', class_='schools-content') \n",
    "\n",
    "    schools_score = school_content.find_all('span', class_='rating-num font-size-base font-weight-bold')\n",
    "\n",
    "    total_score = sum([int(value.text) for value in schools_score])\n",
    "\n",
    "    school_sum = sum([1 for card in school_content.find_all('div', class_='school-card-component')])\n",
    "\n",
    "    school_score_avg = total_score / school_sum    \n",
    "except:\n",
    "    school_score_avg = np.nan"
   ]
  },
  {
   "cell_type": "code",
   "execution_count": 12,
   "id": "d30019e9",
   "metadata": {},
   "outputs": [],
   "source": [
    "# transportation scores\n",
    "try:\n",
    "    scores = [span.find('span').text for span in page.find_all('div', class_='percentage')]    \n",
    "\n",
    "    walk_score = int(scores[0])\n",
    "    transit_score = int(scores[1])\n",
    "    bike_score = int(scores[2])\n",
    "except:\n",
    "    walk_score = transit_score = bike_score = np.nan"
   ]
  },
  {
   "cell_type": "code",
   "execution_count": 13,
   "id": "c2bd283b",
   "metadata": {},
   "outputs": [],
   "source": [
    "# laundry\n",
    "try:\n",
    "    if page.find(text=re.compile('Laundry')):\n",
    "        laundry = True\n",
    "    else:\n",
    "        laundry = False\n",
    "except: \n",
    "    laundry = np.nan"
   ]
  },
  {
   "cell_type": "code",
   "execution_count": 14,
   "id": "b8e91c85",
   "metadata": {},
   "outputs": [],
   "source": [
    "# heating\n",
    "try:\n",
    "    if page.find(text=re.compile('Heating:')):\n",
    "        heating = True\n",
    "    else:\n",
    "        heating = False\n",
    "except:\n",
    "    heating = np.nan      "
   ]
  },
  {
   "cell_type": "code",
   "execution_count": 15,
   "id": "615c3621",
   "metadata": {},
   "outputs": [],
   "source": [
    "# cooling\n",
    "try:\n",
    "    if page.find(text=re.compile('Cooling:')):\n",
    "        aircond = True\n",
    "    else:\n",
    "        aircond = False\n",
    "except:\n",
    "    aircond = np.nan"
   ]
  },
  {
   "cell_type": "code",
   "execution_count": 16,
   "id": "c6fed9da",
   "metadata": {},
   "outputs": [],
   "source": [
    "# pool\n",
    "try:\n",
    "    if page.find(text=re.compile('Pool')):\n",
    "        pool = True\n",
    "    else:\n",
    "        pool = False        \n",
    "except:\n",
    "    pool = np.nan"
   ]
  },
  {
   "cell_type": "code",
   "execution_count": 17,
   "id": "16342fea",
   "metadata": {},
   "outputs": [],
   "source": [
    "# address\n",
    "try:\n",
    "    address = page.find('head').find('title').text.split('|')[0].split(',')[0].upper()    \n",
    "except:\n",
    "    address = np.nan"
   ]
  },
  {
   "cell_type": "code",
   "execution_count": 18,
   "id": "29f0283e",
   "metadata": {},
   "outputs": [],
   "source": [
    "# city\n",
    "try:\n",
    "    city = page.find('head').find('title').text.split('|')[0].split(',')[1].strip().upper()\n",
    "except:\n",
    "    city = np.nan"
   ]
  },
  {
   "cell_type": "code",
   "execution_count": 19,
   "id": "161ec215",
   "metadata": {},
   "outputs": [],
   "source": [
    "# county\n",
    "try:\n",
    "    county = page.find(text='County').findNext().text.upper()\n",
    "except:\n",
    "    county = np.nan"
   ]
  },
  {
   "cell_type": "code",
   "execution_count": 20,
   "id": "2ec97bc7",
   "metadata": {},
   "outputs": [],
   "source": [
    "# zip code\n",
    "try:\n",
    "    zipcode = page.find('head').find('title').text.split('|')[0].split(',')[2].split(' ')[2]    \n",
    "except:\n",
    "    zipcode = np.nan"
   ]
  },
  {
   "cell_type": "code",
   "execution_count": 21,
   "id": "f7d9e321",
   "metadata": {},
   "outputs": [],
   "source": [
    "# property type\n",
    "try:\n",
    "    property_type = page.find(text='Property Type').findNext().text.upper()\n",
    "except:\n",
    "    property_type = np.nan"
   ]
  },
  {
   "cell_type": "code",
   "execution_count": 22,
   "id": "2e26c0b0",
   "metadata": {},
   "outputs": [],
   "source": [
    "# sold status\n",
    "try:\n",
    "    sold_status = page.find(text='Status').findNext().text\n",
    "except:\n",
    "    sold_status = np.nan"
   ]
  },
  {
   "cell_type": "code",
   "execution_count": 23,
   "id": "3133993f",
   "metadata": {},
   "outputs": [],
   "source": [
    "data = [sold_price, beds, baths, floors, garage, lot_sqft, home_sqft, year_built\n",
    "            , school_score_avg, walk_score, transit_score, bike_score, laundry \n",
    "            , heating, aircond, pool, address, city, county, zipcode\n",
    "            , property_type, sold_status, test_url]"
   ]
  },
  {
   "cell_type": "code",
   "execution_count": 24,
   "id": "0481af39",
   "metadata": {},
   "outputs": [],
   "source": [
    "with open('redfin_data.csv', 'a', encoding='UTF8') as f:\n",
    "    writer = csv.writer(f)\n",
    "    writer.writerow(data)    "
   ]
  },
  {
   "cell_type": "code",
   "execution_count": 25,
   "id": "0137cde0",
   "metadata": {},
   "outputs": [
    {
     "data": {
      "text/html": [
       "<div>\n",
       "<style scoped>\n",
       "    .dataframe tbody tr th:only-of-type {\n",
       "        vertical-align: middle;\n",
       "    }\n",
       "\n",
       "    .dataframe tbody tr th {\n",
       "        vertical-align: top;\n",
       "    }\n",
       "\n",
       "    .dataframe thead th {\n",
       "        text-align: right;\n",
       "    }\n",
       "</style>\n",
       "<table border=\"1\" class=\"dataframe\">\n",
       "  <thead>\n",
       "    <tr style=\"text-align: right;\">\n",
       "      <th></th>\n",
       "      <th>Sold Price</th>\n",
       "      <th>Beds</th>\n",
       "      <th>Baths</th>\n",
       "      <th>Floors</th>\n",
       "      <th>Garage Spaces</th>\n",
       "      <th>Lot Size (sq ft)</th>\n",
       "      <th>Home Size (sq ft)</th>\n",
       "      <th>Year Built</th>\n",
       "      <th>School Score Avg</th>\n",
       "      <th>Walk Score</th>\n",
       "      <th>...</th>\n",
       "      <th>Heating</th>\n",
       "      <th>Air Conditioning</th>\n",
       "      <th>Pool</th>\n",
       "      <th>Address</th>\n",
       "      <th>City</th>\n",
       "      <th>County</th>\n",
       "      <th>Zip Code</th>\n",
       "      <th>Property Type</th>\n",
       "      <th>Sold Status</th>\n",
       "      <th>URL</th>\n",
       "    </tr>\n",
       "  </thead>\n",
       "  <tbody>\n",
       "    <tr>\n",
       "      <th>0</th>\n",
       "      <td>3500000</td>\n",
       "      <td>5</td>\n",
       "      <td>3.0</td>\n",
       "      <td>1</td>\n",
       "      <td>2</td>\n",
       "      <td>10123.344</td>\n",
       "      <td>1941</td>\n",
       "      <td>1955</td>\n",
       "      <td>7.666667</td>\n",
       "      <td>27</td>\n",
       "      <td>...</td>\n",
       "      <td>True</td>\n",
       "      <td>True</td>\n",
       "      <td>True</td>\n",
       "      <td>1062 LOS ROBLES AVE</td>\n",
       "      <td>PALO ALTO</td>\n",
       "      <td>SANTA CLARA COUNTY</td>\n",
       "      <td>94306</td>\n",
       "      <td>SINGLE FAMILY RESIDENTIAL</td>\n",
       "      <td>Closed</td>\n",
       "      <td>https://www.redfin.com/CA/Palo-Alto/1062-Los-R...</td>\n",
       "    </tr>\n",
       "  </tbody>\n",
       "</table>\n",
       "<p>1 rows × 23 columns</p>\n",
       "</div>"
      ],
      "text/plain": [
       "   Sold Price  Beds  Baths  Floors  Garage Spaces  Lot Size (sq ft)  \\\n",
       "0     3500000     5    3.0       1              2         10123.344   \n",
       "\n",
       "   Home Size (sq ft)  Year Built  School Score Avg  Walk Score  ...  Heating  \\\n",
       "0               1941        1955          7.666667          27  ...     True   \n",
       "\n",
       "   Air Conditioning  Pool              Address       City              County  \\\n",
       "0              True  True  1062 LOS ROBLES AVE  PALO ALTO  SANTA CLARA COUNTY   \n",
       "\n",
       "  Zip Code              Property Type Sold Status  \\\n",
       "0    94306  SINGLE FAMILY RESIDENTIAL      Closed   \n",
       "\n",
       "                                                 URL  \n",
       "0  https://www.redfin.com/CA/Palo-Alto/1062-Los-R...  \n",
       "\n",
       "[1 rows x 23 columns]"
      ]
     },
     "execution_count": 25,
     "metadata": {},
     "output_type": "execute_result"
    }
   ],
   "source": [
    "pd.read_csv('redfin_data.csv')"
   ]
  },
  {
   "cell_type": "code",
   "execution_count": null,
   "id": "7513dc9e",
   "metadata": {},
   "outputs": [],
   "source": []
  }
 ],
 "metadata": {
  "kernelspec": {
   "display_name": "Python 3 (ipykernel)",
   "language": "python",
   "name": "python3"
  },
  "language_info": {
   "codemirror_mode": {
    "name": "ipython",
    "version": 3
   },
   "file_extension": ".py",
   "mimetype": "text/x-python",
   "name": "python",
   "nbconvert_exporter": "python",
   "pygments_lexer": "ipython3",
   "version": "3.9.7"
  }
 },
 "nbformat": 4,
 "nbformat_minor": 5
}

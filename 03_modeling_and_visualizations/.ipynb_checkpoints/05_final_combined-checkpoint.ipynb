{
 "cells": [
  {
   "cell_type": "code",
   "execution_count": 1,
   "id": "ac79b059",
   "metadata": {},
   "outputs": [],
   "source": [
    "import pandas as pd\n",
    "import numpy as np\n",
    "\n",
    "import seaborn as sns\n",
    "import matplotlib.pyplot as plt\n",
    "%matplotlib inline\n",
    "\n",
    "import statsmodels.api as sm\n",
    "from statsmodels.stats.outliers_influence import variance_inflation_factor\n",
    "\n",
    "from sklearn.linear_model import LinearRegression, Lasso, LassoCV, Ridge, RidgeCV, ElasticNetCV\n",
    "from sklearn.model_selection import train_test_split, KFold, cross_val_score, GridSearchCV\n",
    "from sklearn.metrics import r2_score, mean_absolute_error, mean_squared_error\n",
    "from sklearn.preprocessing import StandardScaler, PolynomialFeatures\n",
    "\n",
    "from scipy import stats"
   ]
  },
  {
   "cell_type": "code",
   "execution_count": 2,
   "id": "8ac711ec",
   "metadata": {},
   "outputs": [],
   "source": [
    "def adj_r2(score, x_data):\n",
    "    return 1 - (1 - score) * (x_data.shape[0] - 1) / (x_data.shape[0] - x_data.shape[1] - 1)"
   ]
  },
  {
   "cell_type": "code",
   "execution_count": 3,
   "id": "72e44631",
   "metadata": {},
   "outputs": [],
   "source": [
    "def diagnostic_plots(x, y, y_pred):    \n",
    "    \n",
    "    plt.figure(figsize=(20,6))\n",
    "    plt.tight_layout(pad=10.0)\n",
    "    \n",
    "    plt.subplot(1, 3, 1)\n",
    "    plt.scatter(y_pred,y)\n",
    "    plt.plot([0, 9e6], [0, 9e6], color='r', linestyle='-')\n",
    "    plt.title('Actual vs. True Sale Price', size=18)\n",
    "    plt.xlabel('Predicted Sale Price', size=16)\n",
    "    plt.ylabel('Actual Sale Price', size=16)\n",
    "    plt.xticks(size=12)\n",
    "    plt.yticks(size=12)\n",
    "    \n",
    "    plt.subplot(1, 3, 2)\n",
    "    res = y - y_pred\n",
    "    plt.scatter(y_pred, res)\n",
    "    plt.axhline(y=0.0, color='r', linestyle='-')\n",
    "    plt.title('Residuals Plot', size=18)\n",
    "    plt.xlabel('Predicted', size=16)\n",
    "    plt.ylabel('Residual', size=16)\n",
    "    plt.xticks(size=12)\n",
    "    plt.yticks(size=12)\n",
    "    \n",
    "    plt.subplot(1, 3, 3)\n",
    "    # specified theoretical distribution \n",
    "    stats.probplot(res, dist='norm', plot=plt)\n",
    "    plt.title('Normal Q-Q plot', size=18)\n",
    "    plt.xlabel('Theoretical Quantiles', size=16)\n",
    "    plt.ylabel('Ordered Values', size=16)\n",
    "    plt.xticks(size=12)\n",
    "    plt.yticks(size=12)"
   ]
  },
  {
   "cell_type": "code",
   "execution_count": 4,
   "id": "fde4b449",
   "metadata": {},
   "outputs": [
    {
     "data": {
      "text/plain": [
       "(1656, 23)"
      ]
     },
     "execution_count": 4,
     "metadata": {},
     "output_type": "execute_result"
    }
   ],
   "source": [
    "df=pd.read_csv('../01_data_collection/redfin_data.csv')\n",
    "df.shape"
   ]
  },
  {
   "cell_type": "code",
   "execution_count": 5,
   "id": "8d6f505e",
   "metadata": {},
   "outputs": [
    {
     "name": "stdout",
     "output_type": "stream",
     "text": [
      "<class 'pandas.core.frame.DataFrame'>\n",
      "RangeIndex: 1656 entries, 0 to 1655\n",
      "Data columns (total 23 columns):\n",
      " #   Column             Non-Null Count  Dtype  \n",
      "---  ------             --------------  -----  \n",
      " 0   Sold Price         1649 non-null   float64\n",
      " 1   Beds               1649 non-null   float64\n",
      " 2   Baths              1649 non-null   float64\n",
      " 3   Floors             1632 non-null   float64\n",
      " 4   Garage Spaces      1656 non-null   int64  \n",
      " 5   Lot Size (sq ft)   1653 non-null   float64\n",
      " 6   Home Size (sq ft)  1655 non-null   float64\n",
      " 7   Year Built         1653 non-null   float64\n",
      " 8   School Score Avg   1515 non-null   float64\n",
      " 9   Walk Score         1538 non-null   float64\n",
      " 10  Transit Score      1538 non-null   float64\n",
      " 11  Bike Score         1538 non-null   float64\n",
      " 12  Laundry            1656 non-null   bool   \n",
      " 13  Heating            1656 non-null   bool   \n",
      " 14  Air Conditioning   1656 non-null   bool   \n",
      " 15  Pool               1656 non-null   bool   \n",
      " 16  Address            1656 non-null   object \n",
      " 17  City               1656 non-null   object \n",
      " 18  County             1654 non-null   object \n",
      " 19  Zip Code           1656 non-null   object \n",
      " 20  Property Type      1654 non-null   object \n",
      " 21  Sold Status        823 non-null    object \n",
      " 22  URL                1656 non-null   object \n",
      "dtypes: bool(4), float64(11), int64(1), object(7)\n",
      "memory usage: 252.4+ KB\n"
     ]
    }
   ],
   "source": [
    "df.info()"
   ]
  },
  {
   "cell_type": "code",
   "execution_count": 6,
   "id": "a280d5fc",
   "metadata": {},
   "outputs": [],
   "source": [
    "## DATA CLEANING\n",
    "\n",
    "df.drop(columns=['Address', 'Sold Status', 'URL'], inplace = True)\n",
    "\n",
    "df = df.dropna()\n",
    "df.reset_index(drop=True, inplace=True)\n",
    "\n",
    "df.columns= df.columns.str.lower()\n",
    "df.rename(columns={'lot size (sq ft)': 'lot size', 'home size (sq ft)': 'home size'}, inplace=True)\n",
    "\n",
    "df.drop(df.index[df['city'] == 'SAN JOSE'], inplace=True)\n",
    "\n",
    "df.drop(df.index[df['city'] == 'EAST PALO ALTO'], inplace=True)\n",
    "\n",
    "df.drop(df.index[df['county'] == 'SAN MATEO COUNTY'], inplace=True)\n",
    "\n",
    "df.drop(columns=['county', 'zip code', 'property type'], inplace = True)\n",
    "\n",
    "df['age of house'] = (df['year built'].max() + 1) - df['year built']\n"
   ]
  },
  {
   "cell_type": "code",
   "execution_count": 7,
   "id": "dc51e473",
   "metadata": {},
   "outputs": [
    {
     "name": "stdout",
     "output_type": "stream",
     "text": [
      "<class 'pandas.core.frame.DataFrame'>\n",
      "Int64Index: 1297 entries, 0 to 1439\n",
      "Data columns (total 18 columns):\n",
      " #   Column            Non-Null Count  Dtype  \n",
      "---  ------            --------------  -----  \n",
      " 0   sold price        1297 non-null   float64\n",
      " 1   beds              1297 non-null   float64\n",
      " 2   baths             1297 non-null   float64\n",
      " 3   floors            1297 non-null   float64\n",
      " 4   garage spaces     1297 non-null   int64  \n",
      " 5   lot size          1297 non-null   float64\n",
      " 6   home size         1297 non-null   float64\n",
      " 7   year built        1297 non-null   float64\n",
      " 8   school score avg  1297 non-null   float64\n",
      " 9   walk score        1297 non-null   float64\n",
      " 10  transit score     1297 non-null   float64\n",
      " 11  bike score        1297 non-null   float64\n",
      " 12  laundry           1297 non-null   bool   \n",
      " 13  heating           1297 non-null   bool   \n",
      " 14  air conditioning  1297 non-null   bool   \n",
      " 15  pool              1297 non-null   bool   \n",
      " 16  city              1297 non-null   object \n",
      " 17  age of house      1297 non-null   float64\n",
      "dtypes: bool(4), float64(12), int64(1), object(1)\n",
      "memory usage: 157.1+ KB\n"
     ]
    }
   ],
   "source": [
    "df.info()"
   ]
  },
  {
   "cell_type": "code",
   "execution_count": 8,
   "id": "10868968",
   "metadata": {},
   "outputs": [],
   "source": [
    "## PRELIMINARY EDA & FEATURE EXPLORATION"
   ]
  },
  {
   "cell_type": "code",
   "execution_count": 9,
   "id": "a15b89fd",
   "metadata": {},
   "outputs": [],
   "source": [
    "df_temp = df.drop(columns=['year built', 'walk score', 'transit score', 'bike score',\n",
    "                           'city', 'laundry', 'heating', 'air conditioning', 'pool'])"
   ]
  },
  {
   "cell_type": "code",
   "execution_count": 10,
   "id": "94329514",
   "metadata": {},
   "outputs": [
    {
     "name": "stdout",
     "output_type": "stream",
     "text": [
      "<class 'pandas.core.frame.DataFrame'>\n",
      "Int64Index: 1297 entries, 0 to 1439\n",
      "Data columns (total 9 columns):\n",
      " #   Column            Non-Null Count  Dtype  \n",
      "---  ------            --------------  -----  \n",
      " 0   sold price        1297 non-null   float64\n",
      " 1   beds              1297 non-null   float64\n",
      " 2   baths             1297 non-null   float64\n",
      " 3   floors            1297 non-null   float64\n",
      " 4   garage spaces     1297 non-null   int64  \n",
      " 5   lot size          1297 non-null   float64\n",
      " 6   home size         1297 non-null   float64\n",
      " 7   school score avg  1297 non-null   float64\n",
      " 8   age of house      1297 non-null   float64\n",
      "dtypes: float64(8), int64(1)\n",
      "memory usage: 101.3 KB\n"
     ]
    }
   ],
   "source": [
    "df_temp.info()"
   ]
  },
  {
   "cell_type": "code",
   "execution_count": null,
   "id": "1b07f593",
   "metadata": {},
   "outputs": [],
   "source": [
    "sns.pairplot(df_temp);"
   ]
  },
  {
   "cell_type": "code",
   "execution_count": null,
   "id": "3fbb7764",
   "metadata": {},
   "outputs": [],
   "source": [
    "df_temp.describe()"
   ]
  },
  {
   "cell_type": "code",
   "execution_count": null,
   "id": "fe0592e0",
   "metadata": {},
   "outputs": [],
   "source": [
    "df['city'].unique()"
   ]
  },
  {
   "cell_type": "code",
   "execution_count": null,
   "id": "58214b8d",
   "metadata": {},
   "outputs": [],
   "source": [
    "df.sort_values(by=['sold price'], ascending=False)"
   ]
  },
  {
   "cell_type": "code",
   "execution_count": null,
   "id": "24ddc916",
   "metadata": {},
   "outputs": [],
   "source": [
    "df.drop([126], inplace=True)\n",
    "df.sort_values(by=['sold price'], ascending=False)"
   ]
  },
  {
   "cell_type": "code",
   "execution_count": null,
   "id": "479b05ee",
   "metadata": {},
   "outputs": [],
   "source": [
    "df.sort_values(by=['lot size'], ascending=False)"
   ]
  },
  {
   "cell_type": "code",
   "execution_count": null,
   "id": "79e62cad",
   "metadata": {},
   "outputs": [],
   "source": [
    "df.drop([951,952, 165], inplace=True)\n",
    "df.sort_values(by=['lot size'], ascending=False)"
   ]
  },
  {
   "cell_type": "code",
   "execution_count": null,
   "id": "aebc026b",
   "metadata": {},
   "outputs": [],
   "source": [
    "df.sort_values(by=['lot size'], ascending=True)"
   ]
  },
  {
   "cell_type": "code",
   "execution_count": null,
   "id": "18d61899",
   "metadata": {},
   "outputs": [],
   "source": [
    "df.drop([1410], inplace=True)"
   ]
  },
  {
   "cell_type": "code",
   "execution_count": null,
   "id": "c297e008",
   "metadata": {},
   "outputs": [],
   "source": [
    "df.info()"
   ]
  },
  {
   "cell_type": "code",
   "execution_count": null,
   "id": "74cbf103",
   "metadata": {},
   "outputs": [],
   "source": [
    "# 'bucket' observations for beds [1, 2, 3, 4, 5, 6+] -> dummy variables?\n",
    "df['beds'].value_counts()"
   ]
  },
  {
   "cell_type": "code",
   "execution_count": null,
   "id": "c41a482a",
   "metadata": {},
   "outputs": [],
   "source": [
    "# 'bucket' observations for baths [1, 1.5, 2, 2.5, 3, 3.5, 4, 4.5, 5+] -> dummy variables?\n",
    "df['baths'].value_counts()"
   ]
  },
  {
   "cell_type": "code",
   "execution_count": null,
   "id": "ed5dee6d",
   "metadata": {},
   "outputs": [],
   "source": [
    "# dummy variables?\n",
    "df['floors'].value_counts()"
   ]
  },
  {
   "cell_type": "code",
   "execution_count": null,
   "id": "76640870",
   "metadata": {},
   "outputs": [],
   "source": [
    "# 'bucket' observations for garage spaces [0, 1, 2, 3+] -> dummy variables?\n",
    "df['garage spaces'].value_counts()"
   ]
  },
  {
   "cell_type": "code",
   "execution_count": null,
   "id": "fa948ed9",
   "metadata": {},
   "outputs": [],
   "source": [
    "df.corr()"
   ]
  },
  {
   "cell_type": "code",
   "execution_count": null,
   "id": "297aabdf",
   "metadata": {},
   "outputs": [],
   "source": [
    "plt.figure(figsize=(15,8))\n",
    "\n",
    "ax = sns.heatmap(df.corr(), annot=True, annot_kws={'size':8})\n",
    "ax.set_xticklabels(ax.get_xticklabels(), rotation=30, size=8)\n",
    "ax.set_yticklabels(ax.get_yticklabels(), rotation=30, size=8);"
   ]
  },
  {
   "cell_type": "code",
   "execution_count": null,
   "id": "3de31a04",
   "metadata": {},
   "outputs": [],
   "source": [
    "df.drop(columns=['year built'], inplace = True)\n",
    "df.info()"
   ]
  },
  {
   "cell_type": "code",
   "execution_count": null,
   "id": "b8acc16c",
   "metadata": {},
   "outputs": [],
   "source": [
    "df.describe()"
   ]
  },
  {
   "cell_type": "code",
   "execution_count": null,
   "id": "9611d04a",
   "metadata": {},
   "outputs": [],
   "source": [
    "df['walk score'].sort_values()"
   ]
  },
  {
   "cell_type": "code",
   "execution_count": null,
   "id": "9a06e7e4",
   "metadata": {},
   "outputs": [],
   "source": [
    "df['transit score'].sort_values()"
   ]
  },
  {
   "cell_type": "code",
   "execution_count": null,
   "id": "c224cbb8",
   "metadata": {},
   "outputs": [],
   "source": [
    "df['bike score'].sort_values()"
   ]
  },
  {
   "cell_type": "code",
   "execution_count": null,
   "id": "f1500352",
   "metadata": {},
   "outputs": [],
   "source": [
    "df_temp = df.drop(columns=['walk score', 'transit score', 'bike score'])"
   ]
  },
  {
   "cell_type": "code",
   "execution_count": null,
   "id": "2e90eab8",
   "metadata": {},
   "outputs": [],
   "source": [
    "df_temp.info()"
   ]
  },
  {
   "cell_type": "code",
   "execution_count": null,
   "id": "a4c88871",
   "metadata": {},
   "outputs": [],
   "source": [
    "bool_cols = {\n",
    "                'laundry': int,\n",
    "                'heating': int,\n",
    "                'air conditioning': int,\n",
    "                'pool': int\n",
    "               }\n",
    "  \n",
    "df_temp = df_temp.astype(bool_cols)\n",
    "df_temp.info()"
   ]
  },
  {
   "cell_type": "code",
   "execution_count": null,
   "id": "37aeb6d4",
   "metadata": {},
   "outputs": [],
   "source": [
    "sns.pairplot(df_temp.drop(columns='city'));"
   ]
  },
  {
   "cell_type": "code",
   "execution_count": null,
   "id": "b45f941b",
   "metadata": {},
   "outputs": [],
   "source": [
    "bool_cols = {\n",
    "                'beds': str,\n",
    "                'baths': str,\n",
    "                'floors': str,\n",
    "                'garage spaces': str\n",
    "               }\n",
    "  \n",
    "df_temp = df_temp.astype(bool_cols)\n",
    "df_temp.info()"
   ]
  },
  {
   "cell_type": "code",
   "execution_count": null,
   "id": "74f99ee5",
   "metadata": {},
   "outputs": [],
   "source": [
    "# df_temp['school score avg sq'] = df_temp['school score avg'] ** 2\n",
    "# df_temp.info()"
   ]
  },
  {
   "cell_type": "code",
   "execution_count": null,
   "id": "d63c79fc",
   "metadata": {},
   "outputs": [],
   "source": [
    "df_temp['beds'].value_counts()"
   ]
  },
  {
   "cell_type": "code",
   "execution_count": null,
   "id": "bcb19811",
   "metadata": {},
   "outputs": [],
   "source": [
    "bed_count = df_temp['beds'].value_counts()\n",
    "\n",
    "bed_one = list(bed_count[bed_count == 2].index)\n",
    "df_temp['beds'] = df_temp['beds'].replace(bed_one, '1-2')\n",
    "\n",
    "bed_two = list(bed_count[bed_count == 69].index)\n",
    "df_temp['beds'] = df_temp['beds'].replace(bed_two, '1-2')\n",
    "\n",
    "bed_six = list(bed_count[bed_count == 24].index)\n",
    "df_temp['beds'] = df_temp['beds'].replace(bed_six, '6+')\n",
    "\n",
    "bed_seven = list(bed_count[bed_count == 4].index)\n",
    "df_temp['beds'] = df_temp['beds'].replace(bed_seven, '6+')\n",
    "\n",
    "df_temp['beds'].value_counts()"
   ]
  },
  {
   "cell_type": "code",
   "execution_count": null,
   "id": "0dba8a1c",
   "metadata": {},
   "outputs": [],
   "source": [
    "df_temp['baths'].value_counts()"
   ]
  },
  {
   "cell_type": "code",
   "execution_count": null,
   "id": "b914c881",
   "metadata": {},
   "outputs": [],
   "source": [
    "bath_count = df_temp['baths'].value_counts()\n",
    "\n",
    "bath_6plus = list(bath_count[bath_count <= 6].index)\n",
    "df_temp['baths'] = df_temp['baths'].replace(bath_6plus, '6+')\n",
    "\n",
    "df_temp['baths'].value_counts()"
   ]
  },
  {
   "cell_type": "code",
   "execution_count": null,
   "id": "5f535ab4",
   "metadata": {},
   "outputs": [],
   "source": [
    "df_temp['floors'].value_counts()"
   ]
  },
  {
   "cell_type": "code",
   "execution_count": null,
   "id": "8f064e1e",
   "metadata": {},
   "outputs": [],
   "source": [
    "df_temp['garage spaces'].value_counts()"
   ]
  },
  {
   "cell_type": "code",
   "execution_count": null,
   "id": "a993295e",
   "metadata": {},
   "outputs": [],
   "source": [
    "garage_count = df_temp['garage spaces'].value_counts()\n",
    "\n",
    "garage_3plus = list(garage_count[garage_count <= 29].index)\n",
    "df_temp['garage spaces'] = df_temp['garage spaces'].replace(garage_3plus, '3+')\n",
    "\n",
    "df_temp['garage spaces'].value_counts()"
   ]
  },
  {
   "cell_type": "code",
   "execution_count": null,
   "id": "10aefde2",
   "metadata": {},
   "outputs": [],
   "source": [
    "df_dummies = pd.get_dummies(df_temp, columns=['beds', 'baths', 'floors', 'garage spaces', 'city'], drop_first=True)\n",
    "df_dummies.info()"
   ]
  },
  {
   "cell_type": "code",
   "execution_count": null,
   "id": "822d5f29",
   "metadata": {},
   "outputs": [],
   "source": [
    "df_dummies.corr()"
   ]
  },
  {
   "cell_type": "code",
   "execution_count": null,
   "id": "11bb75a0",
   "metadata": {},
   "outputs": [],
   "source": [
    "plt.figure(figsize=(15,8))\n",
    "\n",
    "ax = sns.heatmap(df_dummies.corr(), annot=True, annot_kws={'size':5})\n",
    "ax.set_xticklabels(ax.get_xticklabels(), size=6)\n",
    "ax.set_yticklabels(ax.get_yticklabels(), size=6);"
   ]
  },
  {
   "cell_type": "code",
   "execution_count": null,
   "id": "6b6eab06",
   "metadata": {},
   "outputs": [],
   "source": [
    "## SELECT TARGET AND FEATURES\n",
    "\n",
    "x = df_dummies.drop(columns=['sold price'])\n",
    "y = df_dummies['sold price']"
   ]
  },
  {
   "cell_type": "code",
   "execution_count": null,
   "id": "d76188b7",
   "metadata": {},
   "outputs": [],
   "source": [
    "x, x_test, y, y_test = train_test_split(x, y,\n",
    "                                        test_size = 0.2,\n",
    "                                        random_state = 42)\n",
    "\n",
    "x_tr, x_val, y_tr, y_val = train_test_split(x, y,\n",
    "                                                  test_size = 0.25,\n",
    "                                                  random_state = 42)\n"
   ]
  },
  {
   "cell_type": "code",
   "execution_count": null,
   "id": "afd6c287",
   "metadata": {},
   "outputs": [],
   "source": [
    "## FEATURE SCALING AND FIT\n",
    "std = StandardScaler()\n",
    "std.fit(x_tr.values)\n",
    "\n",
    "x_tr_std = std.transform(x_tr.values)\n",
    "x_val_std = std.transform(x_val.values)\n",
    "\n",
    "## LINEAR REGRESSION AND SCORE\n",
    "lr_simple = LinearRegression()\n",
    "lr_simple.fit(x_tr_std, y_tr)\n",
    "\n",
    "lr_r2_train = lr_simple.score(x_tr_std, y_tr)\n",
    "lr_r2_val = lr_simple.score(x_val_std, y_val)\n",
    "\n",
    "print('SIMPLE LINEAR REGRESSION SCORES')\n",
    "\n",
    "print('\\nR^2 (Train): ', lr_r2_train)\n",
    "print('Adj. R^2 (Train): ', adj_r2(lr_r2_train, x_tr_std))\n",
    "\n",
    "print('\\nR^2 (Validation):', lr_r2_val)\n",
    "print('Adj. R^2 (Validation):', adj_r2(lr_r2_val, x_val_std))\n",
    "\n",
    "## POLYNOMIAL LINEAR REGRESSION AND SCORE\n",
    "poly = PolynomialFeatures(degree=2)\n",
    "\n",
    "x_tr_poly = poly.fit_transform(x_tr.values)\n",
    "x_val_poly = poly.transform(x_val.values)\n",
    "\n",
    "lr_poly = LinearRegression()\n",
    "lr_poly.fit(x_tr_poly, y_tr)\n",
    "\n",
    "lr_poly_r2_train = lr_poly.score(x_tr_poly, y_tr)\n",
    "lr_poly_r2_val = lr_poly.score(x_val_poly, y_val)\n",
    "\n",
    "print('\\nLINEAR REGRESSION W/POLYNOMIAL FEATURES SCORES')\n",
    "\n",
    "print('\\nR^2 (Train): ', lr_poly_r2_train)\n",
    "print('Adj. R^2 (Train): ', adj_r2(lr_poly_r2_train, x_tr_poly))\n",
    "\n",
    "print('\\nR^2 (Validation):', lr_poly_r2_val)\n",
    "print('Adj. R^2 (Validation):', adj_r2(lr_poly_r2_val, x_val_poly))\n",
    "\n",
    "## RIDGE REGRESSION AND SCORE\n",
    "alphas = 10**np.linspace(-4,4,200)\n",
    "\n",
    "lr_ridge = RidgeCV(alphas = alphas, cv=5)\n",
    "lr_ridge.fit(x_tr_std, y_tr)\n",
    "\n",
    "lr_ridge_r2_train = lr_ridge.score(x_tr_std, y_tr)\n",
    "lr_ridge_r2_val = lr_ridge.score(x_val_std, y_val)\n",
    "\n",
    "print('\\nRIDGE REGRESSION SCORES')\n",
    "\n",
    "print('\\nR^2 (Train): ', lr_ridge_r2_train)\n",
    "print('Adj. R^2 (Train): ', adj_r2(lr_ridge_r2_train, x_tr_std))\n",
    "\n",
    "print('\\nR^2 (Validation):', lr_ridge_r2_val)\n",
    "print('Adj. R^2 (Validation):', adj_r2(lr_ridge_r2_val, x_val_std))\n",
    "\n",
    "## LASSO REGRESSION\n",
    "lr_lasso = LassoCV(alphas = alphas, cv = 5)\n",
    "lr_lasso.fit(x_tr_std, y_tr)\n",
    "\n",
    "lr_lasso_r2_train = lr_lasso.score(x_tr_std, y_tr)\n",
    "lr_lasso_r2_val = lr_lasso.score(x_val_std, y_val)\n",
    "\n",
    "print('\\nLASSO REGRESSION SCORES')\n",
    "\n",
    "print('\\nR^2 (Train): ', lr_lasso_r2_train)\n",
    "print('Adj. R^2 (Train): ', adj_r2(lr_lasso_r2_train, x_tr_std))\n",
    "\n",
    "print('\\nR^2 (Validation):', lr_lasso_r2_val)\n",
    "print('Adj. R^2 (Validation):', adj_r2(lr_lasso_r2_val, x_val_std))\n",
    "\n",
    "## ELASTIC NET REGRESSION\n",
    "lr_elastic = ElasticNetCV(l1_ratio = [0.1, 0.5, 0.7, 0.9, 0.95, 0.99, 1], \n",
    "                          alphas = alphas, \n",
    "                          cv=5,\n",
    "                          random_state=42)\n",
    "\n",
    "lr_elastic.fit(x_tr_std, y_tr)\n",
    "\n",
    "lr_elastic_r2_train = lr_elastic.score(x_tr_std, y_tr)\n",
    "lr_elastic_r2_val = lr_elastic.score(x_val_std, y_val)\n",
    "\n",
    "print('\\nELASTIC NET REGRESSION SCORES')\n",
    "\n",
    "print('\\nR^2 (Train): ', lr_elastic_r2_train)\n",
    "print('Adj. R^2 (Train): ', adj_r2(lr_elastic_r2_train, x_tr_std))\n",
    "\n",
    "print('\\nR^2 (Validation):', lr_elastic_r2_val)\n",
    "print('Adj. R^2 (Validation):', adj_r2(lr_elastic_r2_val, x_val_std))\n"
   ]
  },
  {
   "cell_type": "code",
   "execution_count": null,
   "id": "e91fd480",
   "metadata": {},
   "outputs": [],
   "source": [
    "## LINEAR REGRESSION MAE\n",
    "print('\\nSIMPLE LINEAR REGRESSION SCORES')\n",
    "print('\\nMean Absolute Error (Train): ', mean_absolute_error(y_tr, lr_simple.predict(x_tr_std)))\n",
    "print('\\nMean Absolute Error (Validation):', mean_absolute_error(y_val, lr_simple.predict(x_val_std)))\n",
    "\n",
    "## POLYNOMIAL LINEAR REGRESSION MAE\n",
    "print('\\nLINEAR REGRESSION W/POLYNOMIAL FEATURES SCORES')\n",
    "print('\\nMean Absolute Error (Train): ', mean_absolute_error(y_tr, lr_poly.predict(x_tr_poly)))\n",
    "print('\\nMean Absolute Error (Validation):', mean_absolute_error(y_val, lr_poly.predict(x_val_poly)))\n",
    "\n",
    "## RIDGE REGRESSION MAE\n",
    "print('\\nRIDGE REGRESSION SCORES')\n",
    "print('\\nMean Absolute Error (Train): ', mean_absolute_error(y_tr, lr_ridge.predict(x_tr_std)))\n",
    "print('\\nMean Absolute Error (Validation):', mean_absolute_error(y_val, lr_ridge.predict(x_val_std)))\n",
    "\n",
    "## LASSO REGRESSION MAE\n",
    "print('\\nLASSO REGRESSION SCORES')\n",
    "print('\\nMean Absolute Error (Train): ', mean_absolute_error(y_tr, lr_lasso.predict(x_tr_std)))\n",
    "print('\\nMean Absolute Error (Validation):', mean_absolute_error(y_val, lr_lasso.predict(x_val_std)))\n",
    "\n",
    "## ELASTIC NET REGRESSION MAE\n",
    "print('\\nELASTIC NET REGRESSION SCORES')\n",
    "print('\\nMean Absolute Error (Train): ', mean_absolute_error(y_tr, lr_elastic.predict(x_tr_std)))\n",
    "print('\\nMean Absolute Error (Validation):', mean_absolute_error(y_val, lr_elastic.predict(x_val_std)))"
   ]
  },
  {
   "cell_type": "code",
   "execution_count": null,
   "id": "48f00517",
   "metadata": {},
   "outputs": [],
   "source": [
    "## LINEAR REGRESSION MAE\n",
    "print('\\nSIMPLE LINEAR REGRESSION SCORES')\n",
    "print('\\nRoot Mean Squared Error (Train): ', mean_squared_error(y_tr, lr_simple.predict(x_tr_std), squared=False))\n",
    "print('\\nRoot Mean Squared Error (Validation):', mean_squared_error(y_val, lr_simple.predict(x_val_std), squared=False))\n",
    "\n",
    "## POLYNOMIAL LINEAR REGRESSION MAE\n",
    "print('\\nLINEAR REGRESSION W/POLYNOMIAL FEATURES SCORES')\n",
    "print('\\nRoot Mean Squared Error (Train): ', mean_squared_error(y_tr, lr_poly.predict(x_tr_poly), squared=False))\n",
    "print('\\nRoot Mean Squared Error (Validation):', mean_squared_error(y_val, lr_poly.predict(x_val_poly), squared=False))\n",
    "\n",
    "## RIDGE REGRESSION MAE\n",
    "print('\\nRIDGE REGRESSION SCORES')\n",
    "print('\\nRoot Mean Squared Error (Train): ', mean_squared_error(y_tr, lr_ridge.predict(x_tr_std), squared=False))\n",
    "print('\\nRoot Mean Squared Error (Validation):', mean_squared_error(y_val, lr_ridge.predict(x_val_std), squared=False))\n",
    "\n",
    "## LASSO REGRESSION MAE\n",
    "print('\\nLASSO REGRESSION SCORES')\n",
    "print('\\nRoot Mean Squared Error (Train): ', mean_squared_error(y_tr, lr_lasso.predict(x_tr_std), squared=False))\n",
    "print('\\nRoot Mean Squared Error (Validation):', mean_squared_error(y_val, lr_lasso.predict(x_val_std), squared=False))\n",
    "\n",
    "## ELASTIC NET REGRESSION MAE\n",
    "print('\\nELASTIC NET REGRESSION SCORES')\n",
    "print('\\nRoot Mean Squared Error (Train): ', mean_squared_error(y_tr, lr_elastic.predict(x_tr_std), squared=False))\n",
    "print('\\nRoot Mean Squared Error (Validation):', mean_squared_error(y_val, lr_elastic.predict(x_val_std), squared=False))"
   ]
  },
  {
   "cell_type": "code",
   "execution_count": null,
   "id": "e80a058f",
   "metadata": {},
   "outputs": [],
   "source": [
    "## .predict() on train data\n",
    "lr_simple_std_predict = lr_simple.predict(x_tr_std)\n",
    "lr_poly_std_predict = lr_poly.predict(x_tr_poly)\n",
    "lr_ridge_std_predict = lr_ridge.predict(x_tr_std)\n",
    "lr_lasso_std_predict = lr_lasso.predict(x_tr_std)\n",
    "lr_elastic_std_predict = lr_elastic.predict(x_tr_std)"
   ]
  },
  {
   "cell_type": "code",
   "execution_count": null,
   "id": "004ff08a",
   "metadata": {},
   "outputs": [],
   "source": [
    "## .predict() on validation data\n",
    "lr_simple_val_predict = lr_simple.predict(x_val_std)\n",
    "lr_poly_val_predict = lr_poly.predict(x_val_poly)\n",
    "lr_ridge_val_predict = lr_ridge.predict(x_val_std)\n",
    "lr_lasso_val_predict = lr_lasso.predict(x_val_std)\n",
    "lr_elastic_val_predict = lr_elastic.predict(x_val_std)"
   ]
  },
  {
   "cell_type": "code",
   "execution_count": null,
   "id": "ffc52cdb",
   "metadata": {},
   "outputs": [],
   "source": [
    "## LINEAR REGRESSION (TRAIN)\n",
    "diagnostic_plots(x_tr_std, y_tr, lr_simple_std_predict)"
   ]
  },
  {
   "cell_type": "code",
   "execution_count": null,
   "id": "bcce29e6",
   "metadata": {},
   "outputs": [],
   "source": [
    "## LINEAR REGRESSION (VALIDATION)\n",
    "diagnostic_plots(x_val_std, y_val, lr_simple_val_predict)"
   ]
  },
  {
   "cell_type": "code",
   "execution_count": null,
   "id": "def0f3b3",
   "metadata": {},
   "outputs": [],
   "source": [
    "## POLYNOMIAL LINEAR REGRESSION (TRAIN)\n",
    "diagnostic_plots(x_tr_std, y_tr, lr_poly_std_predict)"
   ]
  },
  {
   "cell_type": "code",
   "execution_count": null,
   "id": "7bdb7fe2",
   "metadata": {},
   "outputs": [],
   "source": [
    "## POLYNOMIAL LINEAR REGRESSION (VALIDATION)\n",
    "diagnostic_plots(x_val_std, y_val, lr_poly_val_predict)"
   ]
  },
  {
   "cell_type": "code",
   "execution_count": null,
   "id": "21ddc3e9",
   "metadata": {},
   "outputs": [],
   "source": [
    "## RIDGE REGRESSION (TRAIN)\n",
    "diagnostic_plots(x_tr_std, y_tr, lr_ridge_std_predict)"
   ]
  },
  {
   "cell_type": "code",
   "execution_count": null,
   "id": "f8d27a0a",
   "metadata": {},
   "outputs": [],
   "source": [
    "## RIDGE REGRESSION (VALIDATION)\n",
    "diagnostic_plots(x_val_std, y_val, lr_ridge_val_predict)"
   ]
  },
  {
   "cell_type": "code",
   "execution_count": null,
   "id": "6861d8b7",
   "metadata": {},
   "outputs": [],
   "source": [
    "## LASSO REGRESSION (TRAIN)\n",
    "diagnostic_plots(x_tr_std, y_tr, lr_lasso_std_predict)"
   ]
  },
  {
   "cell_type": "code",
   "execution_count": null,
   "id": "427e8c22",
   "metadata": {},
   "outputs": [],
   "source": [
    "## LASSO REGRESSION (VALIDATION)\n",
    "diagnostic_plots(x_val_std, y_val, lr_lasso_val_predict)"
   ]
  },
  {
   "cell_type": "code",
   "execution_count": null,
   "id": "00286fb3",
   "metadata": {},
   "outputs": [],
   "source": [
    "## ELASTIC REGRESSION (TRAIN)\n",
    "diagnostic_plots(x_tr_std, y_tr, lr_elastic_std_predict)"
   ]
  },
  {
   "cell_type": "code",
   "execution_count": null,
   "id": "6fe6e1bd",
   "metadata": {},
   "outputs": [],
   "source": [
    "## ELASTIC NET REGRESSION (VALIDATION)\n",
    "diagnostic_plots(x_val_std, y_val, lr_elastic_val_predict)"
   ]
  },
  {
   "cell_type": "code",
   "execution_count": null,
   "id": "0171aa5f",
   "metadata": {},
   "outputs": [],
   "source": [
    "for feature, coef in zip(x_tr.columns, lr_elastic.coef_):\n",
    "    print(feature, ':', f'{coef:.2f}')"
   ]
  },
  {
   "cell_type": "code",
   "execution_count": null,
   "id": "52356a14",
   "metadata": {},
   "outputs": [],
   "source": [
    "## CHOOSING THE BEST MODEL, COMBINE TRAIN AND VALIDATION, RE-FIT, SCORE"
   ]
  },
  {
   "cell_type": "code",
   "execution_count": null,
   "id": "7d513e06",
   "metadata": {},
   "outputs": [],
   "source": [
    "## FEATURE SCALING AND FIT\n",
    "std = StandardScaler()\n",
    "std.fit(x_tr.values)\n",
    "\n",
    "x_std = std.transform(x.values)\n",
    "x_test_std = std.transform(x_test.values)\n",
    "\n",
    "## ELASTIC NET REGRESSION\n",
    "alphas = 10**np.linspace(-4,4,200)\n",
    "\n",
    "lr_elastic = ElasticNetCV(l1_ratio = [0.1, 0.5, 0.7, 0.9, 0.95, 0.99, 1], \n",
    "                          alphas = alphas, \n",
    "                          cv=5,\n",
    "                          random_state=42)\n",
    "\n",
    "lr_elastic.fit(x_std, y)\n",
    "\n",
    "lr_elastic_r2 = lr_elastic.score(x_std, y)\n",
    "lr_elastic_r2_test = lr_elastic.score(x_test_std, y_test)\n",
    "\n",
    "print('\\nELASTIC NET REGRESSION SCORES')\n",
    "\n",
    "print('\\nR^2 (Train+Validation): ', lr_elastic_r2)\n",
    "print('Adj. R^2 (Train+Validation): ', adj_r2(lr_elastic_r2, x_std))\n",
    "\n",
    "print('\\nR^2 (Test):', lr_elastic_r2_test)\n",
    "print('Adj. R^2 (Test):', adj_r2(lr_elastic_r2_test, x_test_std))\n"
   ]
  },
  {
   "cell_type": "code",
   "execution_count": null,
   "id": "0ca62344",
   "metadata": {},
   "outputs": [],
   "source": [
    "## ELASTIC NET REGRESSION MAE\n",
    "print('\\nELASTIC NET REGRESSION SCORES')\n",
    "print('\\nMean Absolute Error (Train+Validation): ', mean_absolute_error(y, lr_elastic.predict(x_std)))\n",
    "print('\\nMean Absolute Error (Test):', mean_absolute_error(y_test, lr_elastic.predict(x_test_std)))\n"
   ]
  },
  {
   "cell_type": "code",
   "execution_count": null,
   "id": "067add89",
   "metadata": {},
   "outputs": [],
   "source": [
    "## ELASTIC NET REGRESSION MAE\n",
    "print('\\nELASTIC NET REGRESSION SCORES')\n",
    "print('\\nRoot Mean Squared Error (Train+Validation): ', mean_squared_error(y, lr_elastic.predict(x_std), squared=False))\n",
    "print('\\nRoot Mean Squared Error (Test):', mean_squared_error(y_test, lr_elastic.predict(x_test_std), squared=False))\n"
   ]
  },
  {
   "cell_type": "code",
   "execution_count": null,
   "id": "281def49",
   "metadata": {},
   "outputs": [],
   "source": [
    "## ELASTIC NET REGRESSION (TEST) DIAGNOSTIC PLOT\n",
    "lr_elastic_test_predict = lr_elastic.predict(x_std)\n",
    "\n",
    "diagnostic_plots(x_std, y, lr_elastic_test_predict)"
   ]
  },
  {
   "cell_type": "code",
   "execution_count": null,
   "id": "933a97bc",
   "metadata": {},
   "outputs": [],
   "source": [
    "## STANDARDIZED COEFFICIENTS FOR FEATURES IN OUR ELASTIC NET MODEL\n",
    "for feature, coef in zip(x.columns, lr_elastic.coef_):\n",
    "    print(feature, ':', f'{coef:.2f}')"
   ]
  },
  {
   "cell_type": "code",
   "execution_count": null,
   "id": "70d29be2",
   "metadata": {},
   "outputs": [],
   "source": [
    "# sns.set_style('white')\n",
    "\n",
    "# sns.histplot(df_temp['sold price'], color='darkred')\n",
    "# plt.title('Distribution of Homes Sold', fontsize=16)\n",
    "# plt.xlabel('Sold Price', fontsize=16)\n",
    "# plt.ylabel('Frequency', fontsize=16);"
   ]
  },
  {
   "cell_type": "code",
   "execution_count": null,
   "id": "8a5d33ee",
   "metadata": {},
   "outputs": [],
   "source": [
    "# sns.histplot(np.log10(df_temp['sold price']), color='darkred')\n",
    "# plt.title('Distribution of Homes Sold', fontsize=16)\n",
    "# plt.xlabel('Sold Price', fontsize=16)\n",
    "# plt.ylabel('Frequency', fontsize=16);"
   ]
  }
 ],
 "metadata": {
  "kernelspec": {
   "display_name": "Python 3 (ipykernel)",
   "language": "python",
   "name": "python3"
  },
  "language_info": {
   "codemirror_mode": {
    "name": "ipython",
    "version": 3
   },
   "file_extension": ".py",
   "mimetype": "text/x-python",
   "name": "python",
   "nbconvert_exporter": "python",
   "pygments_lexer": "ipython3",
   "version": "3.9.7"
  }
 },
 "nbformat": 4,
 "nbformat_minor": 5
}

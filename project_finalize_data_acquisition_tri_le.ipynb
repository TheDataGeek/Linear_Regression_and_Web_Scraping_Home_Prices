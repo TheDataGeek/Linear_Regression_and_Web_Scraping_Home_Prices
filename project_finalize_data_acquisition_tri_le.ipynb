{
 "cells": [
  {
   "cell_type": "code",
   "execution_count": 1,
   "id": "31dbfee4",
   "metadata": {},
   "outputs": [
    {
     "name": "stdout",
     "output_type": "stream",
     "text": [
      "(1656, 23)\n",
      "<class 'pandas.core.frame.DataFrame'>\n",
      "RangeIndex: 1656 entries, 0 to 1655\n",
      "Data columns (total 23 columns):\n",
      " #   Column             Non-Null Count  Dtype  \n",
      "---  ------             --------------  -----  \n",
      " 0   Sold Price         1649 non-null   float64\n",
      " 1   Beds               1649 non-null   float64\n",
      " 2   Baths              1649 non-null   float64\n",
      " 3   Floors             1632 non-null   float64\n",
      " 4   Garage Spaces      1656 non-null   int64  \n",
      " 5   Lot Size (sq ft)   1653 non-null   float64\n",
      " 6   Home Size (sq ft)  1655 non-null   float64\n",
      " 7   Year Built         1653 non-null   float64\n",
      " 8   School Score Avg   1515 non-null   float64\n",
      " 9   Walk Score         1538 non-null   float64\n",
      " 10  Transit Score      1538 non-null   float64\n",
      " 11  Bike Score         1538 non-null   float64\n",
      " 12  Laundry            1656 non-null   bool   \n",
      " 13  Heating            1656 non-null   bool   \n",
      " 14  Air Conditioning   1656 non-null   bool   \n",
      " 15  Pool               1656 non-null   bool   \n",
      " 16  Address            1656 non-null   object \n",
      " 17  City               1656 non-null   object \n",
      " 18  County             1654 non-null   object \n",
      " 19  Zip Code           1656 non-null   object \n",
      " 20  Property Type      1654 non-null   object \n",
      " 21  Sold Status        823 non-null    object \n",
      " 22  URL                1656 non-null   object \n",
      "dtypes: bool(4), float64(11), int64(1), object(7)\n",
      "memory usage: 252.4+ KB\n",
      "None\n"
     ]
    }
   ],
   "source": [
    "import pandas as pd\n",
    "\n",
    "df = pd.read_csv('redfin_data.csv')\n",
    "print(df.shape)\n",
    "print(df.info())"
   ]
  },
  {
   "cell_type": "code",
   "execution_count": 2,
   "id": "6a42aad7",
   "metadata": {},
   "outputs": [],
   "source": [
    "target_column = df['Sold Price']"
   ]
  }
 ],
 "metadata": {
  "kernelspec": {
   "display_name": "Python 3 (ipykernel)",
   "language": "python",
   "name": "python3"
  },
  "language_info": {
   "codemirror_mode": {
    "name": "ipython",
    "version": 3
   },
   "file_extension": ".py",
   "mimetype": "text/x-python",
   "name": "python",
   "nbconvert_exporter": "python",
   "pygments_lexer": "ipython3",
   "version": "3.9.7"
  }
 },
 "nbformat": 4,
 "nbformat_minor": 5
}
